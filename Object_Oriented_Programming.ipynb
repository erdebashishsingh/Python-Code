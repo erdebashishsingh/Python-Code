{
  "nbformat": 4,
  "nbformat_minor": 0,
  "metadata": {
    "colab": {
      "name": "Object Oriented Programming.ipynb",
      "provenance": [],
      "collapsed_sections": [],
      "include_colab_link": true
    },
    "kernelspec": {
      "name": "python3",
      "display_name": "Python 3"
    }
  },
  "cells": [
    {
      "cell_type": "markdown",
      "metadata": {
        "id": "view-in-github",
        "colab_type": "text"
      },
      "source": [
        "<a href=\"https://colab.research.google.com/github/erdebashishsingh/Python-Code/blob/master/Object_Oriented_Programming.ipynb\" target=\"_parent\"><img src=\"https://colab.research.google.com/assets/colab-badge.svg\" alt=\"Open In Colab\"/></a>"
      ]
    },
    {
      "cell_type": "code",
      "metadata": {
        "id": "Cbdm7iKzuOyU",
        "colab_type": "code",
        "colab": {
          "base_uri": "https://localhost:8080/",
          "height": 51
        },
        "outputId": "00afc696-e9cb-483d-83e9-1749d2d2b107"
      },
      "source": [
        "import random\n",
        "class test1:\n",
        "    def test1_print():\n",
        "        print(10)\n",
        "    def test2_print():\n",
        "        x= random.randint(1,10)\n",
        "        print(x)\n",
        "    \n",
        "test1.test1_print()\n",
        "test1.test2_print()\n",
        "  "
      ],
      "execution_count": 2,
      "outputs": [
        {
          "output_type": "stream",
          "text": [
            "10\n",
            "8\n"
          ],
          "name": "stdout"
        }
      ]
    },
    {
      "cell_type": "code",
      "metadata": {
        "id": "Yq0pIKh5Z0qL",
        "colab_type": "code",
        "colab": {
          "base_uri": "https://localhost:8080/",
          "height": 51
        },
        "outputId": "141a096c-cbc7-4663-e021-75e270c93085"
      },
      "source": [
        "class Restaurant(object):\n",
        "    bankrupt = False\n",
        "    def open_branch(self):\n",
        "        if not self.bankrupt:\n",
        "            print(\"branch opened\")\n",
        "            print(self.bankrupt)\n",
        "            \n",
        "x = Restaurant()\n",
        "\n",
        "x.open_branch()"
      ],
      "execution_count": 12,
      "outputs": [
        {
          "output_type": "stream",
          "text": [
            "branch opened\n",
            "False\n"
          ],
          "name": "stdout"
        }
      ]
    }
  ]
}