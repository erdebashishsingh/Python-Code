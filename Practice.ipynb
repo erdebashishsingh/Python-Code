{
  "nbformat": 4,
  "nbformat_minor": 0,
  "metadata": {
    "colab": {
      "name": "Practice.ipynb",
      "provenance": [],
      "collapsed_sections": [],
      "include_colab_link": true
    },
    "kernelspec": {
      "name": "python3",
      "display_name": "Python 3"
    }
  },
  "cells": [
    {
      "cell_type": "markdown",
      "metadata": {
        "id": "view-in-github",
        "colab_type": "text"
      },
      "source": [
        "<a href=\"https://colab.research.google.com/github/erdebashishsingh/Python-Code/blob/master/Practice.ipynb\" target=\"_parent\"><img src=\"https://colab.research.google.com/assets/colab-badge.svg\" alt=\"Open In Colab\"/></a>"
      ]
    },
    {
      "cell_type": "code",
      "metadata": {
        "id": "iEqQc05FmOjD",
        "colab_type": "code",
        "outputId": "1b72169e-28de-400e-97b1-4432e33967d7",
        "colab": {
          "base_uri": "https://localhost:8080/",
          "height": 34
        }
      },
      "source": [
        "#from collections import Counter\n",
        "\n",
        "c = Counter([0,1,2,1,4,0])\n",
        "\n",
        "print(c)"
      ],
      "execution_count": 0,
      "outputs": [
        {
          "output_type": "stream",
          "text": [
            "Counter({0: 2, 1: 2, 2: 1, 4: 1})\n"
          ],
          "name": "stdout"
        }
      ]
    },
    {
      "cell_type": "code",
      "metadata": {
        "id": "k07emXev0AoL",
        "colab_type": "code",
        "outputId": "f031f063-3cad-497c-ae60-a38ea15d1534",
        "colab": {
          "base_uri": "https://localhost:8080/",
          "height": 51
        }
      },
      "source": [
        "x = None\n",
        "print(x)\n",
        "\n",
        "y = 1 < 2\n",
        "print(y)"
      ],
      "execution_count": 0,
      "outputs": [
        {
          "output_type": "stream",
          "text": [
            "None\n",
            "True\n"
          ],
          "name": "stdout"
        }
      ]
    },
    {
      "cell_type": "code",
      "metadata": {
        "id": "C1U0y6KKmsw1",
        "colab_type": "code",
        "outputId": "951d880e-47bd-4c66-f062-c900f94a21f8",
        "colab": {
          "base_uri": "https://localhost:8080/",
          "height": 34
        }
      },
      "source": [
        "if 1 > 2:\n",
        "  print('1')\n",
        "  if 2 > 3:\n",
        "    print('2')\n",
        "else:\n",
        "  print(\"false\")"
      ],
      "execution_count": 0,
      "outputs": [
        {
          "output_type": "stream",
          "text": [
            "false\n"
          ],
          "name": "stdout"
        }
      ]
    },
    {
      "cell_type": "code",
      "metadata": {
        "id": "DlItq4ceoJKv",
        "colab_type": "code",
        "outputId": "11ad74c7-c4e8-44f6-9e8b-5a58907d358d",
        "colab": {
          "base_uri": "https://localhost:8080/",
          "height": 187
        }
      },
      "source": [
        "x= 10\n",
        " \n",
        "while x < 20:\n",
        "  print(1)\n",
        "  x+=1\n"
      ],
      "execution_count": 0,
      "outputs": [
        {
          "output_type": "stream",
          "text": [
            "1\n",
            "1\n",
            "1\n",
            "1\n",
            "1\n",
            "1\n",
            "1\n",
            "1\n",
            "1\n",
            "1\n"
          ],
          "name": "stdout"
        }
      ]
    },
    {
      "cell_type": "code",
      "metadata": {
        "id": "h9Zk9emHpqqT",
        "colab_type": "code",
        "outputId": "57e8b820-c0c1-4edd-b8da-42a5027bb3e9",
        "colab": {
          "base_uri": "https://localhost:8080/",
          "height": 187
        }
      },
      "source": [
        "x=0\n",
        "\n",
        "for x in range(10):\n",
        "  print (x)"
      ],
      "execution_count": 0,
      "outputs": [
        {
          "output_type": "stream",
          "text": [
            "0\n",
            "1\n",
            "2\n",
            "3\n",
            "4\n",
            "5\n",
            "6\n",
            "7\n",
            "8\n",
            "9\n"
          ],
          "name": "stdout"
        }
      ]
    },
    {
      "cell_type": "code",
      "metadata": {
        "id": "FWJplxisrqm_",
        "colab_type": "code",
        "outputId": "7ad9eea0-384a-4067-c5c4-785d37e01e1c",
        "colab": {
          "base_uri": "https://localhost:8080/",
          "height": 85
        }
      },
      "source": [
        "x = 0\n",
        "\n",
        "for x in range(10):\n",
        "  if x == 3:\n",
        "    continue\n",
        "  if x == 5:\n",
        "    break\n",
        "  print(x)"
      ],
      "execution_count": 0,
      "outputs": [
        {
          "output_type": "stream",
          "text": [
            "0\n",
            "1\n",
            "2\n",
            "4\n"
          ],
          "name": "stdout"
        }
      ]
    },
    {
      "cell_type": "code",
      "metadata": {
        "id": "3uCaIdi_6KbS",
        "colab_type": "code",
        "outputId": "1674223b-5cda-4bde-bd00-4c000d14c4d6",
        "colab": {
          "base_uri": "https://localhost:8080/",
          "height": 34
        }
      },
      "source": [
        "from collections import Counter\n",
        "x = Counter([1,2,3,4,5,1,2,4,9])\n",
        "print(x)"
      ],
      "execution_count": 0,
      "outputs": [
        {
          "output_type": "stream",
          "text": [
            "Counter({1: 2, 2: 2, 4: 2, 3: 1, 5: 1, 9: 1})\n"
          ],
          "name": "stdout"
        }
      ]
    },
    {
      "cell_type": "code",
      "metadata": {
        "id": "XpHt8NlFi014",
        "colab_type": "code",
        "colab": {
          "base_uri": "https://localhost:8080/",
          "height": 34
        },
        "outputId": "88ee19d6-ed77-45f7-bf29-265c4b91514e"
      },
      "source": [
        "x = 10\n",
        "safe_x = x or 0\n",
        "\n",
        "print(x)"
      ],
      "execution_count": 4,
      "outputs": [
        {
          "output_type": "stream",
          "text": [
            "10\n"
          ],
          "name": "stdout"
        }
      ]
    },
    {
      "cell_type": "code",
      "metadata": {
        "id": "E39jlTOssPUl",
        "colab_type": "code",
        "colab": {
          "base_uri": "https://localhost:8080/",
          "height": 51
        },
        "outputId": "f35e0127-7f13-4072-9bb7-6143531eba22"
      },
      "source": [
        "x = [1,2,6,7,8,3,5,9]\n",
        "y = sorted(x)\n",
        "x.sort()\n",
        "print(x)\n",
        "print(y)"
      ],
      "execution_count": 7,
      "outputs": [
        {
          "output_type": "stream",
          "text": [
            "[1, 2, 3, 5, 6, 7, 8, 9]\n",
            "[1, 2, 3, 5, 6, 7, 8, 9]\n"
          ],
          "name": "stdout"
        }
      ]
    },
    {
      "cell_type": "code",
      "metadata": {
        "id": "XTFPNTRqtDDu",
        "colab_type": "code",
        "colab": {
          "base_uri": "https://localhost:8080/",
          "height": 51
        },
        "outputId": "3a677f01-0ff2-420f-dec3-d1146ec48c4d"
      },
      "source": [
        "even_numbers = [x for x in range(10) if x % 2 == 0]\n",
        "square_dict = {x:x*x for x in range(5) if x%2 == 0}\n",
        "print(square_dict)\n",
        "print(even_numbers)"
      ],
      "execution_count": 10,
      "outputs": [
        {
          "output_type": "stream",
          "text": [
            "{0: 0, 2: 4, 4: 16}\n",
            "[0, 2, 4, 6, 8]\n"
          ],
          "name": "stdout"
        }
      ]
    }
  ]
}